{
 "cells": [
  {
   "cell_type": "markdown",
   "metadata": {},
   "source": [
    "### Set Up"
   ]
  },
  {
   "cell_type": "code",
   "execution_count": 3,
   "metadata": {},
   "outputs": [
    {
     "name": "stdout",
     "output_type": "stream",
     "text": [
      "First dataframe size:\n",
      "Draw Date          324\n",
      "Winning Numbers    324\n",
      "Mega Ball          324\n",
      "dtype: int64\n",
      "\n",
      "\n",
      "Second dataframe size:\n",
      "Draw Date          866\n",
      "Winning Numbers    866\n",
      "Mega Ball          866\n",
      "dtype: int64\n",
      "\n",
      "\n",
      "Third dataframe size:\n",
      "Draw Date          420\n",
      "Winning Numbers    420\n",
      "Mega Ball          420\n",
      "dtype: int64\n",
      "\n",
      "\n",
      "Fourth dataframe size:\n",
      "Draw Date          269\n",
      "Winning Numbers    269\n",
      "Mega Ball          269\n",
      "dtype: int64\n"
     ]
    }
   ],
   "source": [
    "import pandas as pd\n",
    "import numpy as np\n",
    "import datetime\n",
    "\n",
    "mega_raw = pd.read_csv('Lottery_Mega_Millions_Winning_Numbers__Beginning_2002 (1).csv', encoding=\"Latin-1\")\n",
    "mega_raw = mega_raw.drop(columns=['Multiplier'])\n",
    "\n",
    "#print(mega_raw[mega_raw['Draw Date']=='10/31/2017'].index.values)\n",
    "\n",
    "#versions changes (Date - White Ball/Mega Ball):\n",
    "\n",
    "# 05/15/2002 -  52/52 \n",
    "# 06/24/2005 -  56/46 - index 324\n",
    "# 10/22/2013 -  75/15 - index 1190\n",
    "# 10/31/2017 -  70/25  - index 1610\n",
    "\n",
    "mega_first = mega_raw.loc[:323, :]\n",
    "mega_second = mega_raw.loc[324:1189, :]\n",
    "mega_third = mega_raw.loc[1190:1609, :]\n",
    "mega_fourth = mega_raw.loc[1610:, :]\n",
    "\n",
    "print('First dataframe size:', mega_first.count(), sep='\\n')\n",
    "print('\\n', 'Second dataframe size:', mega_second.count(), sep='\\n')\n",
    "print('\\n', 'Third dataframe size:', mega_third.count(), sep='\\n')\n",
    "print('\\n', 'Fourth dataframe size:', mega_fourth.count(), sep='\\n')"
   ]
  },
  {
   "cell_type": "markdown",
   "metadata": {},
   "source": [
    "### Lottery Frequency and Date Functions"
   ]
  },
  {
   "cell_type": "code",
   "execution_count": 4,
   "metadata": {},
   "outputs": [],
   "source": [
    "# This function will split the winning numbers column into columns each with only one number\n",
    "def split_cols(df, name1, name2, name3, name4, name5):\n",
    "    df[[name1, name2, name3, name4, name5]] = df['Winning Numbers'].str.split(' ', expand = True).astype(int) \n",
    "    df= df.drop(columns=['Winning Numbers'])\n",
    "    return df   \n",
    "\n",
    "# This function will return dataframe on Mega Ball only\n",
    "def megaball(df, col_number):\n",
    "    df = df.iloc[:,:col_number]\n",
    "    df['Draw Date'] = pd.to_datetime(df['Draw Date'])\n",
    "    df = df.sort_values(by='Draw Date', ascending=True)\n",
    "    return df\n",
    "\n",
    "# This function will return dataframe on White Ball only\n",
    "def whiteball(df, ball_type):\n",
    "    df = df.drop(columns='Mega Ball',)\n",
    "    df = pd.melt(df, id_vars=['Draw Date'], var_name='Ball Order', value_name=ball_type)\n",
    "    df = df.drop(columns = ['Ball Order'])\n",
    "    df['Draw Date'] = pd.to_datetime(df['Draw Date'])\n",
    "    df = df.sort_values(by='Draw Date', ascending=True)\n",
    "    return df\n",
    "\n",
    "\n",
    "# This function will return a frequency count for each number\n",
    "def ballcount(df, col_name, count_name):\n",
    "    df = df[col_name].value_counts().rename_axis(col_name).reset_index(name=count_name)\n",
    "    return df\n",
    "    \n",
    "# This function would return the last drawn date for each number\n",
    "def checkdate(df):\n",
    "    emptydict = {}\n",
    "    for i, j in df.iterrows():\n",
    "        date = j[0]\n",
    "        number = j[1]\n",
    "        emptydict[number] = date\n",
    "    return emptydict\n",
    "\n",
    "\n",
    "def datelastdrawn(df1, df2, ball_type, date):\n",
    "    # Merging the frequency dataframe with date dataframe\n",
    "    df3 = df1.merge(df2, left_on = ball_type, right_on = ball_type, how= 'right')\n",
    "    \n",
    "    # Calculating days since the number has been last drawn\n",
    "    if date == 'Now':\n",
    "        now = datetime.datetime.now().replace(hour=0, minute=0, second=0, microsecond=0)\n",
    "        df3['Days Since Last Drawing'] = now - df3['Date']\n",
    "    else:\n",
    "        date = datetime.datetime.strptime(date, '%m/%d/%Y')\n",
    "        df3['Days Since Last Drawing'] = date - df3['Date']\n",
    "    return df3"
   ]
  },
  {
   "cell_type": "markdown",
   "metadata": {},
   "source": [
    "### Mega Millions Frequency on Version 1 (05/17/2002 - 06/21/2005)"
   ]
  },
  {
   "cell_type": "code",
   "execution_count": 5,
   "metadata": {},
   "outputs": [
    {
     "data": {
      "text/html": [
       "<div>\n",
       "<style scoped>\n",
       "    .dataframe tbody tr th:only-of-type {\n",
       "        vertical-align: middle;\n",
       "    }\n",
       "\n",
       "    .dataframe tbody tr th {\n",
       "        vertical-align: top;\n",
       "    }\n",
       "\n",
       "    .dataframe thead th {\n",
       "        text-align: right;\n",
       "    }\n",
       "</style>\n",
       "<table border=\"1\" class=\"dataframe\">\n",
       "  <thead>\n",
       "    <tr style=\"text-align: right;\">\n",
       "      <th></th>\n",
       "      <th>Mega Ball</th>\n",
       "      <th>Mega Count</th>\n",
       "      <th>Date</th>\n",
       "      <th>Days Since Last Drawing</th>\n",
       "    </tr>\n",
       "  </thead>\n",
       "  <tbody>\n",
       "    <tr>\n",
       "      <th>20</th>\n",
       "      <td>30</td>\n",
       "      <td>7</td>\n",
       "      <td>2005-06-21</td>\n",
       "      <td>0 days</td>\n",
       "    </tr>\n",
       "    <tr>\n",
       "      <th>0</th>\n",
       "      <td>34</td>\n",
       "      <td>14</td>\n",
       "      <td>2005-06-17</td>\n",
       "      <td>4 days</td>\n",
       "    </tr>\n",
       "    <tr>\n",
       "      <th>11</th>\n",
       "      <td>36</td>\n",
       "      <td>8</td>\n",
       "      <td>2005-06-14</td>\n",
       "      <td>7 days</td>\n",
       "    </tr>\n",
       "    <tr>\n",
       "      <th>43</th>\n",
       "      <td>25</td>\n",
       "      <td>3</td>\n",
       "      <td>2005-06-07</td>\n",
       "      <td>14 days</td>\n",
       "    </tr>\n",
       "    <tr>\n",
       "      <th>36</th>\n",
       "      <td>42</td>\n",
       "      <td>5</td>\n",
       "      <td>2005-06-03</td>\n",
       "      <td>18 days</td>\n",
       "    </tr>\n",
       "  </tbody>\n",
       "</table>\n",
       "</div>"
      ],
      "text/plain": [
       "    Mega Ball  Mega Count       Date Days Since Last Drawing\n",
       "20         30           7 2005-06-21                  0 days\n",
       "0          34          14 2005-06-17                  4 days\n",
       "11         36           8 2005-06-14                  7 days\n",
       "43         25           3 2005-06-07                 14 days\n",
       "36         42           5 2005-06-03                 18 days"
      ]
     },
     "execution_count": 5,
     "metadata": {},
     "output_type": "execute_result"
    }
   ],
   "source": [
    "first_df = mega_first.copy()\n",
    "\n",
    "firstdf = split_cols(first_df, 'First', 'Second', 'Third', 'Fourth', 'Fifth')\n",
    "first_white = whiteball(firstdf, 'White Ball')\n",
    "first_mega = megaball(firstdf, 2)\n",
    "\n",
    "first_whitecount = ballcount(first_white, 'White Ball', 'White Count')\n",
    "first_megacount = ballcount(first_mega, 'Mega Ball', 'Mega Count')\n",
    "\n",
    "first_whitedate = pd.DataFrame(checkdate(first_white).items(), columns=['White Ball', 'Date'])\n",
    "first_megadate = pd.DataFrame(checkdate(first_mega).items(), columns=['Mega Ball', 'Date'])\n",
    "\n",
    "lastdate = firstdf['Draw Date'].iloc[-1]\n",
    "first_whitecountdate = datelastdrawn(first_whitecount, first_whitedate, 'White Ball', lastdate)\n",
    "first_megacountdate = datelastdrawn(first_megacount, first_megadate, 'Mega Ball', lastdate)\n",
    "\n",
    "first_white_sorted = first_whitecountdate.sort_values(by = 'Days Since Last Drawing')\n",
    "first_mega_sorted = first_megacountdate.sort_values(by = 'Days Since Last Drawing')\n",
    "first_mega_sorted.head()"
   ]
  },
  {
   "cell_type": "markdown",
   "metadata": {
    "scrolled": true
   },
   "source": [
    "### Mega Millions Frequency on Version 2 (06/24/2005 - 10/15/2013)"
   ]
  },
  {
   "cell_type": "code",
   "execution_count": 6,
   "metadata": {},
   "outputs": [
    {
     "data": {
      "text/html": [
       "<div>\n",
       "<style scoped>\n",
       "    .dataframe tbody tr th:only-of-type {\n",
       "        vertical-align: middle;\n",
       "    }\n",
       "\n",
       "    .dataframe tbody tr th {\n",
       "        vertical-align: top;\n",
       "    }\n",
       "\n",
       "    .dataframe thead th {\n",
       "        text-align: right;\n",
       "    }\n",
       "</style>\n",
       "<table border=\"1\" class=\"dataframe\">\n",
       "  <thead>\n",
       "    <tr style=\"text-align: right;\">\n",
       "      <th></th>\n",
       "      <th>White Ball</th>\n",
       "      <th>White Count</th>\n",
       "      <th>Date</th>\n",
       "      <th>Days Since Last Drawing</th>\n",
       "    </tr>\n",
       "  </thead>\n",
       "  <tbody>\n",
       "    <tr>\n",
       "      <th>37</th>\n",
       "      <td>30</td>\n",
       "      <td>74</td>\n",
       "      <td>2013-10-15</td>\n",
       "      <td>0 days</td>\n",
       "    </tr>\n",
       "    <tr>\n",
       "      <th>30</th>\n",
       "      <td>50</td>\n",
       "      <td>77</td>\n",
       "      <td>2013-10-15</td>\n",
       "      <td>0 days</td>\n",
       "    </tr>\n",
       "    <tr>\n",
       "      <th>8</th>\n",
       "      <td>4</td>\n",
       "      <td>87</td>\n",
       "      <td>2013-10-15</td>\n",
       "      <td>0 days</td>\n",
       "    </tr>\n",
       "    <tr>\n",
       "      <th>28</th>\n",
       "      <td>43</td>\n",
       "      <td>77</td>\n",
       "      <td>2013-10-15</td>\n",
       "      <td>0 days</td>\n",
       "    </tr>\n",
       "    <tr>\n",
       "      <th>45</th>\n",
       "      <td>23</td>\n",
       "      <td>70</td>\n",
       "      <td>2013-10-15</td>\n",
       "      <td>0 days</td>\n",
       "    </tr>\n",
       "  </tbody>\n",
       "</table>\n",
       "</div>"
      ],
      "text/plain": [
       "    White Ball  White Count       Date Days Since Last Drawing\n",
       "37          30           74 2013-10-15                  0 days\n",
       "30          50           77 2013-10-15                  0 days\n",
       "8            4           87 2013-10-15                  0 days\n",
       "28          43           77 2013-10-15                  0 days\n",
       "45          23           70 2013-10-15                  0 days"
      ]
     },
     "execution_count": 6,
     "metadata": {},
     "output_type": "execute_result"
    }
   ],
   "source": [
    "second_df = mega_second.copy()\n",
    "\n",
    "seconddf = split_cols(second_df, 'First', 'Second', 'Third', 'Fourth', 'Fifth')\n",
    "second_white = whiteball(seconddf, 'White Ball')\n",
    "second_mega = megaball(seconddf, 2)\n",
    "\n",
    "second_whitecount = ballcount(second_white, 'White Ball', 'White Count')\n",
    "second_megacount = ballcount(second_mega, 'Mega Ball', 'Mega Count')\n",
    "\n",
    "second_whitedate = pd.DataFrame(checkdate(second_white).items(), columns=['White Ball', 'Date'])\n",
    "second_megadate = pd.DataFrame(checkdate(second_mega).items(), columns=['Mega Ball', 'Date'])\n",
    "\n",
    "lastdate = seconddf['Draw Date'].iloc[-1]\n",
    "second_whitecountdate = datelastdrawn(second_whitecount, second_whitedate, 'White Ball', lastdate)\n",
    "second_megacountdate = datelastdrawn(second_megacount, second_megadate, 'Mega Ball', lastdate)\n",
    "\n",
    "second_white_sorted = second_whitecountdate.sort_values(by = 'Days Since Last Drawing')\n",
    "second_mega_sorted = second_megacountdate.sort_values(by = 'Days Since Last Drawing')\n",
    "second_white_sorted.head()"
   ]
  },
  {
   "cell_type": "markdown",
   "metadata": {},
   "source": [
    "### Mega Millions Frequency on Version 3 (10/22/2013 - 10/27/2017)"
   ]
  },
  {
   "cell_type": "code",
   "execution_count": 7,
   "metadata": {},
   "outputs": [
    {
     "data": {
      "text/html": [
       "<div>\n",
       "<style scoped>\n",
       "    .dataframe tbody tr th:only-of-type {\n",
       "        vertical-align: middle;\n",
       "    }\n",
       "\n",
       "    .dataframe tbody tr th {\n",
       "        vertical-align: top;\n",
       "    }\n",
       "\n",
       "    .dataframe thead th {\n",
       "        text-align: right;\n",
       "    }\n",
       "</style>\n",
       "<table border=\"1\" class=\"dataframe\">\n",
       "  <thead>\n",
       "    <tr style=\"text-align: right;\">\n",
       "      <th></th>\n",
       "      <th>White Ball</th>\n",
       "      <th>White Count</th>\n",
       "      <th>Date</th>\n",
       "      <th>Days Since Last Drawing</th>\n",
       "    </tr>\n",
       "  </thead>\n",
       "  <tbody>\n",
       "    <tr>\n",
       "      <th>42</th>\n",
       "      <td>27</td>\n",
       "      <td>27</td>\n",
       "      <td>2017-10-27</td>\n",
       "      <td>0 days</td>\n",
       "    </tr>\n",
       "    <tr>\n",
       "      <th>54</th>\n",
       "      <td>52</td>\n",
       "      <td>24</td>\n",
       "      <td>2017-10-27</td>\n",
       "      <td>0 days</td>\n",
       "    </tr>\n",
       "    <tr>\n",
       "      <th>2</th>\n",
       "      <td>51</td>\n",
       "      <td>38</td>\n",
       "      <td>2017-10-27</td>\n",
       "      <td>0 days</td>\n",
       "    </tr>\n",
       "    <tr>\n",
       "      <th>10</th>\n",
       "      <td>17</td>\n",
       "      <td>34</td>\n",
       "      <td>2017-10-27</td>\n",
       "      <td>0 days</td>\n",
       "    </tr>\n",
       "    <tr>\n",
       "      <th>6</th>\n",
       "      <td>41</td>\n",
       "      <td>37</td>\n",
       "      <td>2017-10-27</td>\n",
       "      <td>0 days</td>\n",
       "    </tr>\n",
       "  </tbody>\n",
       "</table>\n",
       "</div>"
      ],
      "text/plain": [
       "    White Ball  White Count       Date Days Since Last Drawing\n",
       "42          27           27 2017-10-27                  0 days\n",
       "54          52           24 2017-10-27                  0 days\n",
       "2           51           38 2017-10-27                  0 days\n",
       "10          17           34 2017-10-27                  0 days\n",
       "6           41           37 2017-10-27                  0 days"
      ]
     },
     "execution_count": 7,
     "metadata": {},
     "output_type": "execute_result"
    }
   ],
   "source": [
    "third_df = mega_third.copy()\n",
    "\n",
    "thirddf = split_cols(third_df, 'First', 'Second', 'Third', 'Fourth', 'Fifth')\n",
    "third_white = whiteball(thirddf, 'White Ball')\n",
    "third_mega = megaball(thirddf, 2)\n",
    "\n",
    "third_whitecount = ballcount(third_white, 'White Ball', 'White Count')\n",
    "third_megacount = ballcount(third_mega, 'Mega Ball', 'Mega Count')\n",
    "\n",
    "third_whitedate = pd.DataFrame(checkdate(third_white).items(), columns=['White Ball', 'Date'])\n",
    "third_megadate = pd.DataFrame(checkdate(third_mega).items(), columns=['Mega Ball', 'Date'])\n",
    "\n",
    "lastdate = thirddf['Draw Date'].iloc[-1]\n",
    "third_whitecountdate = datelastdrawn(third_whitecount, third_whitedate, 'White Ball', lastdate)\n",
    "third_megacountdate = datelastdrawn(third_megacount, third_megadate, 'Mega Ball', lastdate)\n",
    "\n",
    "third_white_sorted = third_whitecountdate.sort_values(by = 'Days Since Last Drawing')\n",
    "third_mega_sorted = third_megacountdate.sort_values(by = 'Days Since Last Drawing')\n",
    "third_white_sorted.head()"
   ]
  },
  {
   "cell_type": "markdown",
   "metadata": {},
   "source": [
    "### Mega Millions Frequency on Version 4 (10/31/2017 - 05/01/2020)"
   ]
  },
  {
   "cell_type": "code",
   "execution_count": 8,
   "metadata": {},
   "outputs": [
    {
     "data": {
      "text/html": [
       "<div>\n",
       "<style scoped>\n",
       "    .dataframe tbody tr th:only-of-type {\n",
       "        vertical-align: middle;\n",
       "    }\n",
       "\n",
       "    .dataframe tbody tr th {\n",
       "        vertical-align: top;\n",
       "    }\n",
       "\n",
       "    .dataframe thead th {\n",
       "        text-align: right;\n",
       "    }\n",
       "</style>\n",
       "<table border=\"1\" class=\"dataframe\">\n",
       "  <thead>\n",
       "    <tr style=\"text-align: right;\">\n",
       "      <th></th>\n",
       "      <th>White Ball</th>\n",
       "      <th>White Count</th>\n",
       "      <th>Date</th>\n",
       "      <th>Days Since Last Drawing</th>\n",
       "    </tr>\n",
       "  </thead>\n",
       "  <tbody>\n",
       "    <tr>\n",
       "      <th>29</th>\n",
       "      <td>58</td>\n",
       "      <td>20</td>\n",
       "      <td>2020-05-26</td>\n",
       "      <td>3 days</td>\n",
       "    </tr>\n",
       "    <tr>\n",
       "      <th>2</th>\n",
       "      <td>62</td>\n",
       "      <td>27</td>\n",
       "      <td>2020-05-26</td>\n",
       "      <td>3 days</td>\n",
       "    </tr>\n",
       "    <tr>\n",
       "      <th>20</th>\n",
       "      <td>59</td>\n",
       "      <td>21</td>\n",
       "      <td>2020-05-26</td>\n",
       "      <td>3 days</td>\n",
       "    </tr>\n",
       "    <tr>\n",
       "      <th>57</th>\n",
       "      <td>52</td>\n",
       "      <td>15</td>\n",
       "      <td>2020-05-26</td>\n",
       "      <td>3 days</td>\n",
       "    </tr>\n",
       "    <tr>\n",
       "      <th>14</th>\n",
       "      <td>34</td>\n",
       "      <td>23</td>\n",
       "      <td>2020-05-26</td>\n",
       "      <td>3 days</td>\n",
       "    </tr>\n",
       "  </tbody>\n",
       "</table>\n",
       "</div>"
      ],
      "text/plain": [
       "    White Ball  White Count       Date Days Since Last Drawing\n",
       "29          58           20 2020-05-26                  3 days\n",
       "2           62           27 2020-05-26                  3 days\n",
       "20          59           21 2020-05-26                  3 days\n",
       "57          52           15 2020-05-26                  3 days\n",
       "14          34           23 2020-05-26                  3 days"
      ]
     },
     "execution_count": 8,
     "metadata": {},
     "output_type": "execute_result"
    }
   ],
   "source": [
    "fourth_df = mega_fourth.copy()\n",
    "\n",
    "fourthdf = split_cols(fourth_df, 'First', 'Second', 'Third', 'Fourth', 'Fifth')\n",
    "fourth_mega = megaball(fourthdf, 2)\n",
    "fourth_white = whiteball(fourthdf, 'White Ball')\n",
    "\n",
    "fourth_megacount = ballcount(fourth_mega, 'Mega Ball', 'Mega Count')\n",
    "fourth_whitecount = ballcount(fourth_white, 'White Ball', 'White Count')\n",
    "\n",
    "fourth_whitedate = pd.DataFrame(checkdate(fourth_white).items(), columns=['White Ball', 'Date'])\n",
    "fourth_megadate = pd.DataFrame(checkdate(fourth_mega).items(), columns=['Mega Ball', 'Date'])\n",
    "\n",
    "fourth_whitecountdate = datelastdrawn(fourth_whitecount, fourth_whitedate, 'White Ball', 'Now')\n",
    "fourth_megacountdate = datelastdrawn(fourth_megacount, fourth_megadate, 'Mega Ball', 'Now')\n",
    "\n",
    "fourth_mega_sorted = fourth_megacountdate.sort_values(by = 'Days Since Last Drawing')\n",
    "fourth_white_sorted = fourth_whitecountdate.sort_values(by = 'Days Since Last Drawing')\n",
    "fourth_white_sorted.head()"
   ]
  },
  {
   "cell_type": "markdown",
   "metadata": {},
   "source": [
    "### Chi Square Test on Version 1 (05/17/2002 - 06/21/2005)"
   ]
  },
  {
   "cell_type": "code",
   "execution_count": 44,
   "metadata": {},
   "outputs": [],
   "source": [
    "from scipy.stats import chisquare\n",
    "from scipy.stats import chi2\n",
    "\n",
    "def chi_pval(df, column):\n",
    "    o = list(df[column])\n",
    "    e = [sum(o)/len(o)] * len(o)\n",
    "    chi, p_val = chisquare(o, e)\n",
    "    df = len(o) -1\n",
    "    new_pval = chi2.sf(chi, df)\n",
    "    \n",
    "    if new_pval > 0.05:\n",
    "        print('The p value is {:.3f}, the result is not significant at p < 0.05'.format(new_pval))\n",
    "    else:\n",
    "        print('The p value is {:.3f}, the result is significant at p < 0.05'.format(new_pval))"
   ]
  },
  {
   "cell_type": "code",
   "execution_count": 45,
   "metadata": {},
   "outputs": [
    {
     "name": "stdout",
     "output_type": "stream",
     "text": [
      "The p value is 0.108, the result is not significant at p < 0.05\n"
     ]
    }
   ],
   "source": [
    "firstmega_p = chi_pval(first_megacount, 'Mega Count')"
   ]
  },
  {
   "cell_type": "markdown",
   "metadata": {},
   "source": [
    "### Chi Square Test on Version 2 (06/24/2005 - 10/15/2013)"
   ]
  },
  {
   "cell_type": "code",
   "execution_count": 48,
   "metadata": {},
   "outputs": [
    {
     "name": "stdout",
     "output_type": "stream",
     "text": [
      "The p value is 0.992, the result is not significant at p < 0.05\n"
     ]
    }
   ],
   "source": [
    "secondmega_p = chi_pval(second_megacount, 'Mega Count')"
   ]
  },
  {
   "cell_type": "markdown",
   "metadata": {},
   "source": [
    "### Chi Square Test on Version 3 (10/22/2013 - 10/27/2017)"
   ]
  },
  {
   "cell_type": "code",
   "execution_count": 49,
   "metadata": {
    "scrolled": true
   },
   "outputs": [
    {
     "name": "stdout",
     "output_type": "stream",
     "text": [
      "The p value is 0.686, the result is not significant at p < 0.05\n"
     ]
    }
   ],
   "source": [
    "thirdmega_p = chi_pval(third_megacount, 'Mega Count')"
   ]
  },
  {
   "cell_type": "markdown",
   "metadata": {},
   "source": [
    "### Chi Square Test on Version 4 (10/31/2017 - 05/01/2020)"
   ]
  },
  {
   "cell_type": "code",
   "execution_count": 50,
   "metadata": {},
   "outputs": [
    {
     "name": "stdout",
     "output_type": "stream",
     "text": [
      "The p value is 0.923, the result is not significant at p < 0.05\n"
     ]
    }
   ],
   "source": [
    "fourthmega_p = chi_pval(fourth_megacount, 'Mega Count')"
   ]
  }
 ],
 "metadata": {
  "kernelspec": {
   "display_name": "Python 3",
   "language": "python",
   "name": "python3"
  },
  "language_info": {
   "codemirror_mode": {
    "name": "ipython",
    "version": 3
   },
   "file_extension": ".py",
   "mimetype": "text/x-python",
   "name": "python",
   "nbconvert_exporter": "python",
   "pygments_lexer": "ipython3",
   "version": "3.7.3"
  }
 },
 "nbformat": 4,
 "nbformat_minor": 2
}
