{
 "cells": [
  {
   "cell_type": "markdown",
   "metadata": {},
   "source": [
    "Data downloaded from:\n",
    "\n",
    "https://catalog.data.gov/dataset/lottery-powerball-winning-numbers-beginning-2010/resource/056eb632-0fb0-4d32-a791-93cf74bd7429\n",
    "\n",
    "https://catalog.data.gov/dataset/lottery-mega-millions-winning-numbers-beginning-2002"
   ]
  },
  {
   "cell_type": "code",
   "execution_count": 2,
   "metadata": {},
   "outputs": [],
   "source": [
    "# Are there number combinations that have repeated?\n",
    "# Create frequency table for patterns how many odds and evens\n",
    "# Check for frequency of each number, additionally, check when it was last drawn\n",
    "\n",
    "# On 10/31/17, rule change from 5/75 + 1/15 to the current 5/70 + 1/25."
   ]
  },
  {
   "cell_type": "markdown",
   "metadata": {},
   "source": [
    "### Set Up"
   ]
  },
  {
   "cell_type": "code",
   "execution_count": 2,
   "metadata": {},
   "outputs": [],
   "source": [
    "import pandas as pd\n",
    "import numpy as np\n",
    "import datetime \n",
    "\n",
    "mega_raw = pd.read_csv('Lottery_Mega_Millions_Winning_Numbers__Beginning_2002.csv', encoding=\"Latin-1\")\n",
    "mega_raw = mega_raw.drop(columns=['Multiplier'])\n",
    "\n",
    "#print(mega_raw[mega_raw['Draw Date']=='10/31/2017'].index.values)\n",
    "\n",
    "#versions changes:\n",
    "# Starting data/ White/Mega \n",
    "\n",
    "# 06/24/2005 -   56/46 - index 324\n",
    "# 10/22/2013 -   75/15 - index 1190\n",
    "# 10/31/2017 -   70/25  - index 1610\n",
    "\n",
    "mega_first = mega_raw.loc[:323, :]\n",
    "mega_second = mega_raw.loc[324:1189, :]\n",
    "mega_third = mega_raw.loc[1190:1609, :]\n",
    "mega_fourth = mega_raw.loc[1610:, :]\n",
    "\n",
    "#size of each datafram\n",
    "#324 rows\n",
    "#866 rows\n",
    "#420 rows\n",
    "#262 rows"
   ]
  },
  {
   "cell_type": "markdown",
   "metadata": {},
   "source": [
    "### Mega Millions Frequency 05/17/2002 - 06/21/2005"
   ]
  },
  {
   "cell_type": "code",
   "execution_count": 3,
   "metadata": {},
   "outputs": [
    {
     "data": {
      "text/html": [
       "<div>\n",
       "<style scoped>\n",
       "    .dataframe tbody tr th:only-of-type {\n",
       "        vertical-align: middle;\n",
       "    }\n",
       "\n",
       "    .dataframe tbody tr th {\n",
       "        vertical-align: top;\n",
       "    }\n",
       "\n",
       "    .dataframe thead th {\n",
       "        text-align: right;\n",
       "    }\n",
       "</style>\n",
       "<table border=\"1\" class=\"dataframe\">\n",
       "  <thead>\n",
       "    <tr style=\"text-align: right;\">\n",
       "      <th></th>\n",
       "      <th>Mega Ball</th>\n",
       "      <th>Count</th>\n",
       "    </tr>\n",
       "  </thead>\n",
       "  <tbody>\n",
       "    <tr>\n",
       "      <th>0</th>\n",
       "      <td>34</td>\n",
       "      <td>14</td>\n",
       "    </tr>\n",
       "    <tr>\n",
       "      <th>1</th>\n",
       "      <td>3</td>\n",
       "      <td>12</td>\n",
       "    </tr>\n",
       "    <tr>\n",
       "      <th>2</th>\n",
       "      <td>13</td>\n",
       "      <td>12</td>\n",
       "    </tr>\n",
       "    <tr>\n",
       "      <th>3</th>\n",
       "      <td>21</td>\n",
       "      <td>12</td>\n",
       "    </tr>\n",
       "    <tr>\n",
       "      <th>4</th>\n",
       "      <td>52</td>\n",
       "      <td>11</td>\n",
       "    </tr>\n",
       "  </tbody>\n",
       "</table>\n",
       "</div>"
      ],
      "text/plain": [
       "   Mega Ball  Count\n",
       "0         34     14\n",
       "1          3     12\n",
       "2         13     12\n",
       "3         21     12\n",
       "4         52     11"
      ]
     },
     "execution_count": 3,
     "metadata": {},
     "output_type": "execute_result"
    }
   ],
   "source": [
    "#mega_pre[['First','Second', 'Third', 'Fourth', 'Fifth']] = mega_pre['Winning Numbers'].str.split(' ', expand = True).astype(int) \n",
    "#mega_pre= mega_pre.drop(columns=['Winning Numbers'])\n",
    "#megaball_pre_count = mega_pre['Mega Ball'].value_counts().rename_axis('Mega Ball').reset_index(name='Counts')\n",
    "## calculate the last instance of the number by looping backwards\n",
    "#mega_pre_main = mega_pre.drop(columns='Mega Ball')\n",
    "#mega_pre_main = pd.melt(mega_pre_main, id_vars=['Draw Date'], var_name='Ball Order', value_name='Number')\n",
    "#mega_pre_count = mega_pre_main['Number'].value_counts().rename_axis('White Ball').reset_index(name='Counts')\n",
    "\n",
    "\n",
    "# These functions replaces the commented code aboce\n",
    "def split_cols(df, name1, name2, name3, name4, name5):\n",
    "    df[[name1, name2, name3, name4, name5]] = df['Winning Numbers'].str.split(' ', expand = True).astype(int) \n",
    "    df= df.drop(columns=['Winning Numbers'])\n",
    "    return df   \n",
    "\n",
    "def megaball_count(df, col_name, count_name):\n",
    "    df = df[col_name].value_counts().rename_axis(col_name).reset_index(name=count_name)\n",
    "    return df\n",
    "\n",
    "def whiteball_count(df, col_name, count_name):\n",
    "    df = df.drop(columns='Mega Ball')\n",
    "    df = pd.melt(df, id_vars=['Draw Date'], var_name='Ball Order', value_name='Number')\n",
    "    df = df['Number'].value_counts().rename_axis(col_name).reset_index(name=count_name)\n",
    "    return df\n",
    "    \n",
    "first_df = mega_first.copy()\n",
    "\n",
    "firstdf = split_cols(first_df, 'First', 'Second', 'Third', 'Fourth', 'Fifth')\n",
    "first_mega = megaball_count(firstdf, 'Mega Ball', 'Count')\n",
    "first_white = whiteball_count(firstdf, 'White Ball', 'Count')\n",
    "\n",
    "first_white.head()\n",
    "first_mega.head()"
   ]
  },
  {
   "cell_type": "markdown",
   "metadata": {
    "scrolled": true
   },
   "source": [
    "### Mega Millions Frequency 06/24/2005 - 10/15/2013"
   ]
  },
  {
   "cell_type": "code",
   "execution_count": 4,
   "metadata": {},
   "outputs": [
    {
     "data": {
      "text/html": [
       "<div>\n",
       "<style scoped>\n",
       "    .dataframe tbody tr th:only-of-type {\n",
       "        vertical-align: middle;\n",
       "    }\n",
       "\n",
       "    .dataframe tbody tr th {\n",
       "        vertical-align: top;\n",
       "    }\n",
       "\n",
       "    .dataframe thead th {\n",
       "        text-align: right;\n",
       "    }\n",
       "</style>\n",
       "<table border=\"1\" class=\"dataframe\">\n",
       "  <thead>\n",
       "    <tr style=\"text-align: right;\">\n",
       "      <th></th>\n",
       "      <th>White Ball</th>\n",
       "      <th>Count</th>\n",
       "    </tr>\n",
       "  </thead>\n",
       "  <tbody>\n",
       "    <tr>\n",
       "      <th>0</th>\n",
       "      <td>48</td>\n",
       "      <td>99</td>\n",
       "    </tr>\n",
       "    <tr>\n",
       "      <th>1</th>\n",
       "      <td>2</td>\n",
       "      <td>92</td>\n",
       "    </tr>\n",
       "    <tr>\n",
       "      <th>2</th>\n",
       "      <td>53</td>\n",
       "      <td>89</td>\n",
       "    </tr>\n",
       "    <tr>\n",
       "      <th>3</th>\n",
       "      <td>20</td>\n",
       "      <td>89</td>\n",
       "    </tr>\n",
       "    <tr>\n",
       "      <th>4</th>\n",
       "      <td>36</td>\n",
       "      <td>89</td>\n",
       "    </tr>\n",
       "  </tbody>\n",
       "</table>\n",
       "</div>"
      ],
      "text/plain": [
       "   White Ball  Count\n",
       "0          48     99\n",
       "1           2     92\n",
       "2          53     89\n",
       "3          20     89\n",
       "4          36     89"
      ]
     },
     "execution_count": 4,
     "metadata": {},
     "output_type": "execute_result"
    }
   ],
   "source": [
    "second_df = mega_second.copy()\n",
    "\n",
    "seconddf = split_cols(second_df, 'second', 'Second', 'Third', 'Fourth', 'Fifth')\n",
    "second_mega = megaball_count(seconddf, 'Mega Ball', 'Count')\n",
    "second_white = whiteball_count(seconddf, 'White Ball', 'Count')\n",
    "\n",
    "second_white.head()"
   ]
  },
  {
   "cell_type": "markdown",
   "metadata": {},
   "source": [
    "### Mega Millions Frequency 10/22/2013 - 10/27/2017"
   ]
  },
  {
   "cell_type": "code",
   "execution_count": 5,
   "metadata": {},
   "outputs": [
    {
     "data": {
      "text/html": [
       "<div>\n",
       "<style scoped>\n",
       "    .dataframe tbody tr th:only-of-type {\n",
       "        vertical-align: middle;\n",
       "    }\n",
       "\n",
       "    .dataframe tbody tr th {\n",
       "        vertical-align: top;\n",
       "    }\n",
       "\n",
       "    .dataframe thead th {\n",
       "        text-align: right;\n",
       "    }\n",
       "</style>\n",
       "<table border=\"1\" class=\"dataframe\">\n",
       "  <thead>\n",
       "    <tr style=\"text-align: right;\">\n",
       "      <th></th>\n",
       "      <th>White Ball</th>\n",
       "      <th>Count</th>\n",
       "    </tr>\n",
       "  </thead>\n",
       "  <tbody>\n",
       "    <tr>\n",
       "      <th>0</th>\n",
       "      <td>51</td>\n",
       "      <td>38</td>\n",
       "    </tr>\n",
       "    <tr>\n",
       "      <th>1</th>\n",
       "      <td>35</td>\n",
       "      <td>37</td>\n",
       "    </tr>\n",
       "    <tr>\n",
       "      <th>2</th>\n",
       "      <td>49</td>\n",
       "      <td>37</td>\n",
       "    </tr>\n",
       "    <tr>\n",
       "      <th>3</th>\n",
       "      <td>41</td>\n",
       "      <td>35</td>\n",
       "    </tr>\n",
       "    <tr>\n",
       "      <th>4</th>\n",
       "      <td>45</td>\n",
       "      <td>35</td>\n",
       "    </tr>\n",
       "  </tbody>\n",
       "</table>\n",
       "</div>"
      ],
      "text/plain": [
       "   White Ball  Count\n",
       "0          51     38\n",
       "1          35     37\n",
       "2          49     37\n",
       "3          41     35\n",
       "4          45     35"
      ]
     },
     "execution_count": 5,
     "metadata": {},
     "output_type": "execute_result"
    }
   ],
   "source": [
    "third_df = mega_third.copy()\n",
    "\n",
    "thirddf = split_cols(third_df, 'third', 'third', 'Third', 'Fourth', 'Fifth')\n",
    "third_mega = megaball_count(thirddf, 'Mega Ball', 'Count')\n",
    "third_white = whiteball_count(thirddf, 'White Ball', 'Count')\n",
    "\n",
    "third_white.head()"
   ]
  },
  {
   "cell_type": "markdown",
   "metadata": {},
   "source": [
    "### Mega Millions Frequency 10/31/2017 - 05/01/2020"
   ]
  },
  {
   "cell_type": "code",
   "execution_count": 6,
   "metadata": {},
   "outputs": [
    {
     "data": {
      "text/html": [
       "<div>\n",
       "<style scoped>\n",
       "    .dataframe tbody tr th:only-of-type {\n",
       "        vertical-align: middle;\n",
       "    }\n",
       "\n",
       "    .dataframe tbody tr th {\n",
       "        vertical-align: top;\n",
       "    }\n",
       "\n",
       "    .dataframe thead th {\n",
       "        text-align: right;\n",
       "    }\n",
       "</style>\n",
       "<table border=\"1\" class=\"dataframe\">\n",
       "  <thead>\n",
       "    <tr style=\"text-align: right;\">\n",
       "      <th></th>\n",
       "      <th>Mega Ball</th>\n",
       "      <th>Count</th>\n",
       "    </tr>\n",
       "  </thead>\n",
       "  <tbody>\n",
       "    <tr>\n",
       "      <th>0</th>\n",
       "      <td>11</td>\n",
       "      <td>15</td>\n",
       "    </tr>\n",
       "    <tr>\n",
       "      <th>1</th>\n",
       "      <td>22</td>\n",
       "      <td>14</td>\n",
       "    </tr>\n",
       "    <tr>\n",
       "      <th>2</th>\n",
       "      <td>20</td>\n",
       "      <td>14</td>\n",
       "    </tr>\n",
       "    <tr>\n",
       "      <th>3</th>\n",
       "      <td>9</td>\n",
       "      <td>14</td>\n",
       "    </tr>\n",
       "    <tr>\n",
       "      <th>4</th>\n",
       "      <td>10</td>\n",
       "      <td>14</td>\n",
       "    </tr>\n",
       "  </tbody>\n",
       "</table>\n",
       "</div>"
      ],
      "text/plain": [
       "   Mega Ball  Count\n",
       "0         11     15\n",
       "1         22     14\n",
       "2         20     14\n",
       "3          9     14\n",
       "4         10     14"
      ]
     },
     "execution_count": 6,
     "metadata": {},
     "output_type": "execute_result"
    }
   ],
   "source": [
    "fourth_df = mega_fourth.copy()\n",
    "\n",
    "fourthdf = split_cols(fourth_df, 'fourth', 'fourth', 'fourth', 'Fourth', 'Fifth')\n",
    "fourth_mega = megaball_count(fourthdf, 'Mega Ball', 'Count')\n",
    "fourth_white = whiteball_count(fourthdf, 'White Ball', 'Count')\n",
    "\n",
    "fourth_mega.head()"
   ]
  }
 ],
 "metadata": {
  "kernelspec": {
   "display_name": "Python 3",
   "language": "python",
   "name": "python3"
  },
  "language_info": {
   "codemirror_mode": {
    "name": "ipython",
    "version": 3
   },
   "file_extension": ".py",
   "mimetype": "text/x-python",
   "name": "python",
   "nbconvert_exporter": "python",
   "pygments_lexer": "ipython3",
   "version": "3.7.3"
  }
 },
 "nbformat": 4,
 "nbformat_minor": 2
}
