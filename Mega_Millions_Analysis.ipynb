{
 "cells": [
  {
   "cell_type": "markdown",
   "metadata": {},
   "source": [
    "Data downloaded from:\n",
    "\n",
    "https://catalog.data.gov/dataset/lottery-mega-millions-winning-numbers-beginning-2002"
   ]
  },
  {
   "cell_type": "markdown",
   "metadata": {},
   "source": [
    "### Set Up"
   ]
  },
  {
   "cell_type": "code",
   "execution_count": 72,
   "metadata": {},
   "outputs": [
    {
     "name": "stdout",
     "output_type": "stream",
     "text": [
      "First dataframe size:\n",
      "Draw Date          324\n",
      "Winning Numbers    324\n",
      "Mega Ball          324\n",
      "dtype: int64\n",
      "\n",
      "\n",
      "Second dataframe size:\n",
      "Draw Date          866\n",
      "Winning Numbers    866\n",
      "Mega Ball          866\n",
      "dtype: int64\n",
      "\n",
      "\n",
      "Third dataframe size:\n",
      "Draw Date          420\n",
      "Winning Numbers    420\n",
      "Mega Ball          420\n",
      "dtype: int64\n",
      "\n",
      "\n",
      "Fourth dataframe size:\n",
      "Draw Date          262\n",
      "Winning Numbers    262\n",
      "Mega Ball          262\n",
      "dtype: int64\n"
     ]
    }
   ],
   "source": [
    "import pandas as pd\n",
    "import numpy as np\n",
    "import datetime\n",
    "\n",
    "mega_raw = pd.read_csv('Lottery_Mega_Millions_Winning_Numbers__Beginning_2002.csv', encoding=\"Latin-1\")\n",
    "mega_raw = mega_raw.drop(columns=['Multiplier'])\n",
    "\n",
    "#print(mega_raw[mega_raw['Draw Date']=='10/31/2017'].index.values)\n",
    "\n",
    "#versions changes (Date - White Ball/Mega Ball):\n",
    "\n",
    "# 05/15/2002 -  52/52 \n",
    "# 06/24/2005 -  56/46 - index 324\n",
    "# 10/22/2013 -  75/15 - index 1190\n",
    "# 10/31/2017 -  70/25  - index 1610\n",
    "\n",
    "mega_first = mega_raw.loc[:323, :]\n",
    "mega_second = mega_raw.loc[324:1189, :]\n",
    "mega_third = mega_raw.loc[1190:1609, :]\n",
    "mega_fourth = mega_raw.loc[1610:, :]\n",
    "\n",
    "print('First dataframe size:', mega_first.count(), sep='\\n')\n",
    "print('\\n', 'Second dataframe size:', mega_second.count(), sep='\\n')\n",
    "print('\\n', 'Third dataframe size:', mega_third.count(), sep='\\n')\n",
    "print('\\n', 'Fourth dataframe size:', mega_fourth.count(), sep='\\n')\n",
    "\n"
   ]
  },
  {
   "cell_type": "markdown",
   "metadata": {},
   "source": [
    "### Lottery Frequency and Date Functions"
   ]
  },
  {
   "cell_type": "code",
   "execution_count": 8,
   "metadata": {},
   "outputs": [],
   "source": [
    "# This function will split the winning numbers column into columns each with only one number\n",
    "def split_cols(df, name1, name2, name3, name4, name5):\n",
    "    df[[name1, name2, name3, name4, name5]] = df['Winning Numbers'].str.split(' ', expand = True).astype(int) \n",
    "    df= df.drop(columns=['Winning Numbers'])\n",
    "    return df   \n",
    "\n",
    "# This function will return dataframe on Mega Ball only\n",
    "def megaball(df, col_number):\n",
    "    df = df.iloc[:,:col_number]\n",
    "    return df\n",
    "\n",
    "# This function will return dataframe on White Ball only\n",
    "def whiteball(df, ball_type):\n",
    "    df = df.drop(columns='Mega Ball',)\n",
    "    df = pd.melt(df, id_vars=['Draw Date'], var_name='Ball Order', value_name=ball_type)\n",
    "    df = df.drop(columns = ['Ball Order'])\n",
    "    return df\n",
    "\n",
    "# This function will return a frequency count for each number\n",
    "def ballcount(df, col_name, count_name):\n",
    "    df = df[col_name].value_counts().rename_axis(col_name).reset_index(name=count_name)\n",
    "    return df\n",
    "    \n",
    "# This function would return the last drawn date for each number\n",
    "def checkdate(df):\n",
    "    emptydict = {}\n",
    "    for i, j in df.iterrows():\n",
    "        date = j[0]\n",
    "        number = j[1]\n",
    "        emptydict[number] = date\n",
    "    return emptydict\n",
    "\n",
    "\n",
    "def datelastdrawn(df1, df2, ball_type, date):\n",
    "    # Merging the frequency dataframe with date dataframe\n",
    "    df3 = df1.merge(df2, left_on = ball_type, right_on = ball_type, how= 'right')\n",
    "    df3['Date']= pd.to_datetime(df3['Date'])\n",
    "    \n",
    "    # Calculating days since the number has been last drawn\n",
    "    if date == 'Now':\n",
    "        now = datetime.datetime.now().replace(hour=0, minute=0, second=0, microsecond=0)\n",
    "        df3['Days Since Last Drawing'] = now - df3['Date']\n",
    "    else:\n",
    "        date = datetime.datetime.strptime(date, '%m/%d/%Y')\n",
    "        df3['Days Since Last Drawing'] = date - df3['Date']\n",
    "    return df3"
   ]
  },
  {
   "cell_type": "markdown",
   "metadata": {},
   "source": [
    "### Mega Millions Frequency 05/17/2002 - 06/21/2005"
   ]
  },
  {
   "cell_type": "code",
   "execution_count": 80,
   "metadata": {},
   "outputs": [],
   "source": [
    "first_df = mega_first.copy()\n",
    "\n",
    "firstdf = split_cols(first_df, 'First', 'first', 'first', 'first', 'Fifth')\n",
    "first_mega = megaball(firstdf, 2)\n",
    "first_white = whiteball(firstdf, 'White Ball')\n",
    "first_megacount = ballcount(first_mega, 'Mega Ball', 'Mega Count')\n",
    "first_whitecount = ballcount(first_white, 'White Ball', 'White Count')\n",
    "\n",
    "first_whitedate = pd.DataFrame(checkdate(first_white).items(), columns=['White Ball', 'Date'])\n",
    "first_megadate = pd.DataFrame(checkdate(first_mega).items(), columns=['Mega Ball', 'Date'])\n",
    "\n",
    "lastdate = firstdf['Draw Date'].iloc[-1]\n",
    "first_whitecountdate = datelastdrawn(first_whitecount, first_whitedate, 'White Ball', lastdate)\n",
    "first_megacountdate = datelastdrawn(first_megacount, first_megadate, 'Mega Ball', lastdate)\n",
    "\n",
    "first_mega_sorted = first_megacountdate.sort_values(by = 'Days Since Last Drawing')\n",
    "first_white_sorted = first_whitecountdate.sort_values(by = 'Days Since Last Drawing')"
   ]
  },
  {
   "cell_type": "markdown",
   "metadata": {
    "scrolled": true
   },
   "source": [
    "### Mega Millions Frequency 06/24/2005 - 10/15/2013"
   ]
  },
  {
   "cell_type": "code",
   "execution_count": 77,
   "metadata": {},
   "outputs": [],
   "source": [
    "second_df = mega_second.copy()\n",
    "\n",
    "seconddf = split_cols(second_df, 'First', 'Second', 'second', 'second', 'Fifth')\n",
    "second_mega = megaball(seconddf, 2)\n",
    "second_white = whiteball(seconddf, 'White Ball')\n",
    "second_megacount = ballcount(second_mega, 'Mega Ball', 'Mega Count')\n",
    "second_whitecount = ballcount(second_white, 'White Ball', 'White Count')\n",
    "\n",
    "second_whitedate = pd.DataFrame(checkdate(second_white).items(), columns=['White Ball', 'Date'])\n",
    "second_megadate = pd.DataFrame(checkdate(second_mega).items(), columns=['Mega Ball', 'Date'])\n",
    "\n",
    "lastdate = seconddf['Draw Date'].iloc[-1]\n",
    "second_whitecountdate = datelastdrawn(second_whitecount, second_whitedate, 'White Ball', lastdate)\n",
    "second_megacountdate = datelastdrawn(second_megacount, second_megadate, 'Mega Ball', lastdate)\n",
    "\n",
    "second_mega_sorted = second_megacountdate.sort_values(by = 'Days Since Last Drawing')\n",
    "second_white_sorted = second_whitecountdate.sort_values(by = 'Days Since Last Drawing')"
   ]
  },
  {
   "cell_type": "markdown",
   "metadata": {},
   "source": [
    "### Mega Millions Frequency 10/22/2013 - 10/27/2017"
   ]
  },
  {
   "cell_type": "code",
   "execution_count": 78,
   "metadata": {},
   "outputs": [],
   "source": [
    "third_df = mega_third.copy()\n",
    "\n",
    "thirddf = split_cols(third_df, 'First', 'third', 'third', 'third', 'Fifth')\n",
    "third_mega = megaball(thirddf, 2)\n",
    "third_white = whiteball(thirddf, 'White Ball')\n",
    "third_megacount = ballcount(third_mega, 'Mega Ball', 'Mega Count')\n",
    "third_whitecount = ballcount(third_white, 'White Ball', 'White Count')\n",
    "\n",
    "third_whitedate = pd.DataFrame(checkdate(third_white).items(), columns=['White Ball', 'Date'])\n",
    "third_megadate = pd.DataFrame(checkdate(third_mega).items(), columns=['Mega Ball', 'Date'])\n",
    "\n",
    "lastdate = thirddf['Draw Date'].iloc[-1]\n",
    "third_whitecountdate = datelastdrawn(third_whitecount, third_whitedate, 'White Ball', lastdate)\n",
    "third_megacountdate = datelastdrawn(third_megacount, third_megadate, 'Mega Ball', lastdate)\n",
    "\n",
    "third_mega_sorted = third_megacountdate.sort_values(by = 'Days Since Last Drawing')\n",
    "third_white_sorted = third_whitecountdate.sort_values(by = 'Days Since Last Drawing')"
   ]
  },
  {
   "cell_type": "markdown",
   "metadata": {},
   "source": [
    "### Mega Millions Frequency 10/31/2017 - 05/01/2020"
   ]
  },
  {
   "cell_type": "code",
   "execution_count": 79,
   "metadata": {},
   "outputs": [
    {
     "data": {
      "text/html": [
       "<div>\n",
       "<style scoped>\n",
       "    .dataframe tbody tr th:only-of-type {\n",
       "        vertical-align: middle;\n",
       "    }\n",
       "\n",
       "    .dataframe tbody tr th {\n",
       "        vertical-align: top;\n",
       "    }\n",
       "\n",
       "    .dataframe thead th {\n",
       "        text-align: right;\n",
       "    }\n",
       "</style>\n",
       "<table border=\"1\" class=\"dataframe\">\n",
       "  <thead>\n",
       "    <tr style=\"text-align: right;\">\n",
       "      <th></th>\n",
       "      <th>Mega Ball</th>\n",
       "      <th>Mega Count</th>\n",
       "      <th>Date</th>\n",
       "      <th>Days Since Last Drawing</th>\n",
       "    </tr>\n",
       "  </thead>\n",
       "  <tbody>\n",
       "    <tr>\n",
       "      <th>0</th>\n",
       "      <td>11</td>\n",
       "      <td>15</td>\n",
       "      <td>2020-01-14</td>\n",
       "      <td>129 days</td>\n",
       "    </tr>\n",
       "    <tr>\n",
       "      <th>1</th>\n",
       "      <td>22</td>\n",
       "      <td>14</td>\n",
       "      <td>2020-03-13</td>\n",
       "      <td>70 days</td>\n",
       "    </tr>\n",
       "    <tr>\n",
       "      <th>2</th>\n",
       "      <td>20</td>\n",
       "      <td>14</td>\n",
       "      <td>2020-04-07</td>\n",
       "      <td>45 days</td>\n",
       "    </tr>\n",
       "    <tr>\n",
       "      <th>3</th>\n",
       "      <td>9</td>\n",
       "      <td>14</td>\n",
       "      <td>2020-01-17</td>\n",
       "      <td>126 days</td>\n",
       "    </tr>\n",
       "    <tr>\n",
       "      <th>4</th>\n",
       "      <td>10</td>\n",
       "      <td>14</td>\n",
       "      <td>2020-02-04</td>\n",
       "      <td>108 days</td>\n",
       "    </tr>\n",
       "  </tbody>\n",
       "</table>\n",
       "</div>"
      ],
      "text/plain": [
       "   Mega Ball  Mega Count       Date Days Since Last Drawing\n",
       "0         11          15 2020-01-14                129 days\n",
       "1         22          14 2020-03-13                 70 days\n",
       "2         20          14 2020-04-07                 45 days\n",
       "3          9          14 2020-01-17                126 days\n",
       "4         10          14 2020-02-04                108 days"
      ]
     },
     "execution_count": 79,
     "metadata": {},
     "output_type": "execute_result"
    }
   ],
   "source": [
    "fourth_df = mega_fourth.copy()\n",
    "\n",
    "fourthdf = split_cols(fourth_df, 'First', 'Second', 'fourth', 'Fourth', 'Fifth')\n",
    "fourth_mega = megaball(fourthdf, 2)\n",
    "fourth_white = whiteball(fourthdf, 'White Ball')\n",
    "fourth_megacount = ballcount(fourth_mega, 'Mega Ball', 'Mega Count')\n",
    "fourth_whitecount = ballcount(fourth_white, 'White Ball', 'White Count')\n",
    "\n",
    "fourth_whitedate = pd.DataFrame(checkdate(fourth_white).items(), columns=['White Ball', 'Date'])\n",
    "fourth_megadate = pd.DataFrame(checkdate(fourth_mega).items(), columns=['Mega Ball', 'Date'])\n",
    "\n",
    "fourth_whitecountdate = datelastdrawn(fourth_whitecount, fourth_whitedate, 'White Ball', 'Now')\n",
    "fourth_megacountdate = datelastdrawn(fourth_megacount, fourth_megadate, 'Mega Ball', 'Now')\n",
    "\n",
    "fourth_mega_sorted = fourth_megacountdate.sort_values(by = 'Days Since Last Drawing')\n",
    "fourth_white_sorted = fourth_whitecountdate.sort_values(by = 'Days Since Last Drawing')\n",
    "\n",
    "fourth_whitecountdate.head()\n",
    "fourth_megacountdate.head()"
   ]
  },
  {
   "cell_type": "code",
   "execution_count": null,
   "metadata": {},
   "outputs": [],
   "source": []
  }
 ],
 "metadata": {
  "kernelspec": {
   "display_name": "Python 3",
   "language": "python",
   "name": "python3"
  },
  "language_info": {
   "codemirror_mode": {
    "name": "ipython",
    "version": 3
   },
   "file_extension": ".py",
   "mimetype": "text/x-python",
   "name": "python",
   "nbconvert_exporter": "python",
   "pygments_lexer": "ipython3",
   "version": "3.7.3"
  }
 },
 "nbformat": 4,
 "nbformat_minor": 2
}
