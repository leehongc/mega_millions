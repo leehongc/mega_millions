{
 "cells": [
  {
   "cell_type": "markdown",
   "metadata": {},
   "source": [
    "Data downloaded from:\n",
    "\n",
    "https://catalog.data.gov/dataset/lottery-powerball-winning-numbers-beginning-2010/resource/056eb632-0fb0-4d32-a791-93cf74bd7429\n",
    "\n",
    "https://catalog.data.gov/dataset/lottery-mega-millions-winning-numbers-beginning-2002"
   ]
  },
  {
   "cell_type": "code",
   "execution_count": 2,
   "metadata": {},
   "outputs": [],
   "source": [
    "# Are there number combinations that have repeated?\n",
    "# Create frequency table for patterns how many odds and evens\n",
    "# Check for frequency of each number, additionally, check when it was last drawn\n",
    "\n",
    "# On 10/31/17, rule change from 5/75 + 1/15 to the current 5/70 + 1/25."
   ]
  },
  {
   "cell_type": "markdown",
   "metadata": {},
   "source": [
    "### Set Up"
   ]
  },
  {
   "cell_type": "code",
   "execution_count": 23,
   "metadata": {},
   "outputs": [],
   "source": [
    "import pandas as pd\n",
    "import numpy as np\n",
    "import datetime \n",
    "\n",
    "mega_raw = pd.read_csv('Lottery_Mega_Millions_Winning_Numbers__Beginning_2002.csv', encoding=\"Latin-1\")\n",
    "mega_raw = mega_raw.drop(columns=['Multiplier'])\n",
    "\n",
    "#print(mega_raw[mega_raw['Draw Date']=='10/31/2017'].index.values)\n",
    "\n",
    "#versions changes:\n",
    "# Starting data/ White/Mega \n",
    "\n",
    "# 05/15/2002 -  52/52 \n",
    "# 06/24/2005 -  56/46 - index 324\n",
    "# 10/22/2013 -  75/15 - index 1190\n",
    "# 10/31/2017 -  70/25  - index 1610\n",
    "\n",
    "mega_first = mega_raw.loc[:323, :]\n",
    "mega_second = mega_raw.loc[324:1189, :]\n",
    "mega_third = mega_raw.loc[1190:1609, :]\n",
    "mega_fourth = mega_raw.loc[1610:, :]\n",
    "\n",
    "#size of each datafram\n",
    "#324 rows\n",
    "#866 rows\n",
    "#420 rows\n",
    "#262 rows\n"
   ]
  },
  {
   "cell_type": "markdown",
   "metadata": {},
   "source": [
    "### Mega Millions Frequency 05/17/2002 - 06/21/2005"
   ]
  },
  {
   "cell_type": "code",
   "execution_count": 105,
   "metadata": {},
   "outputs": [],
   "source": [
    "#mega_pre[['First','Second', 'Third', 'Fourth', 'Fifth']] = mega_pre['Winning Numbers'].str.split(' ', expand = True).astype(int) \n",
    "#mega_pre= mega_pre.drop(columns=['Winning Numbers'])\n",
    "#megaball_pre_count = mega_pre['Mega Ball'].value_counts().rename_axis('Mega Ball').reset_index(name='Counts')\n",
    "## calculate the last instance of the number by looping backwards\n",
    "#mega_pre_main = mega_pre.drop(columns='Mega Ball')\n",
    "#mega_pre_main = pd.melt(mega_pre_main, id_vars=['Draw Date'], var_name='Ball Order', value_name='Number')\n",
    "#mega_pre_count = mega_pre_main['Number'].value_counts().rename_axis('White Ball').reset_index(name='Counts')\n",
    "\n",
    "\n",
    "# These functions replaces the commented code aboce\n",
    "def split_cols(df, name1, name2, name3, name4, name5):\n",
    "    df[[name1, name2, name3, name4, name5]] = df['Winning Numbers'].str.split(' ', expand = True).astype(int) \n",
    "    df= df.drop(columns=['Winning Numbers'])\n",
    "    return df   \n",
    "\n",
    "def megaball(df, col_number):\n",
    "    df = df.iloc[:,:col_number]\n",
    "    return df\n",
    "\n",
    "def whiteball(df, ball_type):\n",
    "    df = df.drop(columns='Mega Ball',)\n",
    "    df = pd.melt(df, id_vars=['Draw Date'], var_name='Ball Order', value_name=ball_type)\n",
    "    df = df.drop(columns = ['Ball Order'])\n",
    "    return df\n",
    "\n",
    "def ballcount(df, col_name, count_name):\n",
    "    df = df[col_name].value_counts().rename_axis(col_name).reset_index(name=count_name)\n",
    "    return df\n",
    "    \n",
    "# This function would return the last drawn date for each number\n",
    "def checkdate(df):\n",
    "    emptydict = {}\n",
    "    for i, j in df.iterrows():\n",
    "        date = j[0]\n",
    "        number = j[1]\n",
    "        emptydict[number] = date\n",
    "    return emptydict\n",
    "\n",
    "first_df = mega_first.copy()\n",
    "\n",
    "firstdf = split_cols(first_df, 'First', 'Second', 'Third', 'Fourth', 'Fifth')\n",
    "first_mega = megaball(firstdf, 2)\n",
    "first_white = whiteball(firstdf, 'White Ball')\n",
    "first_megacount = ballcount(first_mega, 'Mega Ball', 'Count')\n",
    "first_whitecount = ballcount(first_white, 'White Ball', 'Count')\n",
    "\n",
    "first_white\n",
    "#first_white = first_white.loc[:2000, :]\n",
    "\n",
    "\n",
    "#checkdate(first_white)\n",
    "#checkdate(first_mega)"
   ]
  },
  {
   "cell_type": "markdown",
   "metadata": {
    "scrolled": true
   },
   "source": [
    "### Mega Millions Frequency 06/24/2005 - 10/15/2013"
   ]
  },
  {
   "cell_type": "code",
   "execution_count": 108,
   "metadata": {},
   "outputs": [
    {
     "data": {
      "text/html": [
       "<div>\n",
       "<style scoped>\n",
       "    .dataframe tbody tr th:only-of-type {\n",
       "        vertical-align: middle;\n",
       "    }\n",
       "\n",
       "    .dataframe tbody tr th {\n",
       "        vertical-align: top;\n",
       "    }\n",
       "\n",
       "    .dataframe thead th {\n",
       "        text-align: right;\n",
       "    }\n",
       "</style>\n",
       "<table border=\"1\" class=\"dataframe\">\n",
       "  <thead>\n",
       "    <tr style=\"text-align: right;\">\n",
       "      <th></th>\n",
       "      <th>White Ball</th>\n",
       "      <th>Count</th>\n",
       "    </tr>\n",
       "  </thead>\n",
       "  <tbody>\n",
       "    <tr>\n",
       "      <th>0</th>\n",
       "      <td>48</td>\n",
       "      <td>99</td>\n",
       "    </tr>\n",
       "    <tr>\n",
       "      <th>1</th>\n",
       "      <td>2</td>\n",
       "      <td>92</td>\n",
       "    </tr>\n",
       "    <tr>\n",
       "      <th>2</th>\n",
       "      <td>53</td>\n",
       "      <td>89</td>\n",
       "    </tr>\n",
       "    <tr>\n",
       "      <th>3</th>\n",
       "      <td>20</td>\n",
       "      <td>89</td>\n",
       "    </tr>\n",
       "    <tr>\n",
       "      <th>4</th>\n",
       "      <td>36</td>\n",
       "      <td>89</td>\n",
       "    </tr>\n",
       "  </tbody>\n",
       "</table>\n",
       "</div>"
      ],
      "text/plain": [
       "   White Ball  Count\n",
       "0          48     99\n",
       "1           2     92\n",
       "2          53     89\n",
       "3          20     89\n",
       "4          36     89"
      ]
     },
     "execution_count": 108,
     "metadata": {},
     "output_type": "execute_result"
    }
   ],
   "source": [
    "second_df = mega_second.copy()\n",
    "\n",
    "seconddf = split_cols(second_df, 'second', 'Second', 'Third', 'Fourth', 'Fifth')\n",
    "second_mega = megaball(seconddf, 2)\n",
    "second_white = whiteball(seconddf, 'White Ball')\n",
    "second_megacount = ballcount(second_mega, 'Mega Ball', 'Count')\n",
    "second_whitecount = ballcount(second_white, 'White Ball', 'Count')\n",
    "\n",
    "second_megacount.head()\n",
    "second_whitecount.head()\n",
    "\n",
    "#checkdate(second_mega)\n",
    "#checkdate(second_white)"
   ]
  },
  {
   "cell_type": "markdown",
   "metadata": {},
   "source": [
    "### Mega Millions Frequency 10/22/2013 - 10/27/2017"
   ]
  },
  {
   "cell_type": "code",
   "execution_count": 113,
   "metadata": {},
   "outputs": [
    {
     "data": {
      "text/html": [
       "<div>\n",
       "<style scoped>\n",
       "    .dataframe tbody tr th:only-of-type {\n",
       "        vertical-align: middle;\n",
       "    }\n",
       "\n",
       "    .dataframe tbody tr th {\n",
       "        vertical-align: top;\n",
       "    }\n",
       "\n",
       "    .dataframe thead th {\n",
       "        text-align: right;\n",
       "    }\n",
       "</style>\n",
       "<table border=\"1\" class=\"dataframe\">\n",
       "  <thead>\n",
       "    <tr style=\"text-align: right;\">\n",
       "      <th></th>\n",
       "      <th>White Ball</th>\n",
       "      <th>Count</th>\n",
       "    </tr>\n",
       "  </thead>\n",
       "  <tbody>\n",
       "    <tr>\n",
       "      <th>0</th>\n",
       "      <td>31</td>\n",
       "      <td>41</td>\n",
       "    </tr>\n",
       "    <tr>\n",
       "      <th>1</th>\n",
       "      <td>35</td>\n",
       "      <td>38</td>\n",
       "    </tr>\n",
       "    <tr>\n",
       "      <th>2</th>\n",
       "      <td>51</td>\n",
       "      <td>38</td>\n",
       "    </tr>\n",
       "    <tr>\n",
       "      <th>3</th>\n",
       "      <td>20</td>\n",
       "      <td>38</td>\n",
       "    </tr>\n",
       "    <tr>\n",
       "      <th>4</th>\n",
       "      <td>25</td>\n",
       "      <td>37</td>\n",
       "    </tr>\n",
       "  </tbody>\n",
       "</table>\n",
       "</div>"
      ],
      "text/plain": [
       "   White Ball  Count\n",
       "0          31     41\n",
       "1          35     38\n",
       "2          51     38\n",
       "3          20     38\n",
       "4          25     37"
      ]
     },
     "execution_count": 113,
     "metadata": {},
     "output_type": "execute_result"
    }
   ],
   "source": [
    "third_df = mega_third.copy()\n",
    "\n",
    "thirddf = split_cols(third_df, 'third', 'Second', 'Third', 'Fourth', 'Fifth')\n",
    "third_mega = megaball(thirddf, 2)\n",
    "third_white = whiteball(thirddf, 'White Ball')\n",
    "third_megacount = ballcount(third_mega, 'Mega Ball', 'Count')\n",
    "third_whitecount = ballcount(third_white, 'White Ball', 'Count')\n",
    "\n",
    "third_megacount.head()\n",
    "third_whitecount.head()\n",
    "\n",
    "#checkdate(third_white)\n",
    "#checkdate(third_mega)"
   ]
  },
  {
   "cell_type": "markdown",
   "metadata": {},
   "source": [
    "### Mega Millions Frequency 10/31/2017 - 05/01/2020"
   ]
  },
  {
   "cell_type": "code",
   "execution_count": 122,
   "metadata": {},
   "outputs": [
    {
     "data": {
      "text/html": [
       "<div>\n",
       "<style scoped>\n",
       "    .dataframe tbody tr th:only-of-type {\n",
       "        vertical-align: middle;\n",
       "    }\n",
       "\n",
       "    .dataframe tbody tr th {\n",
       "        vertical-align: top;\n",
       "    }\n",
       "\n",
       "    .dataframe thead th {\n",
       "        text-align: right;\n",
       "    }\n",
       "</style>\n",
       "<table border=\"1\" class=\"dataframe\">\n",
       "  <thead>\n",
       "    <tr style=\"text-align: right;\">\n",
       "      <th></th>\n",
       "      <th>Number</th>\n",
       "      <th>Last Drawn Date</th>\n",
       "    </tr>\n",
       "  </thead>\n",
       "  <tbody>\n",
       "    <tr>\n",
       "      <th>0</th>\n",
       "      <td>12</td>\n",
       "      <td>03/10/2020</td>\n",
       "    </tr>\n",
       "    <tr>\n",
       "      <th>1</th>\n",
       "      <td>3</td>\n",
       "      <td>10/01/2019</td>\n",
       "    </tr>\n",
       "    <tr>\n",
       "      <th>2</th>\n",
       "      <td>11</td>\n",
       "      <td>01/14/2020</td>\n",
       "    </tr>\n",
       "    <tr>\n",
       "      <th>3</th>\n",
       "      <td>24</td>\n",
       "      <td>01/24/2020</td>\n",
       "    </tr>\n",
       "    <tr>\n",
       "      <th>4</th>\n",
       "      <td>19</td>\n",
       "      <td>01/31/2020</td>\n",
       "    </tr>\n",
       "  </tbody>\n",
       "</table>\n",
       "</div>"
      ],
      "text/plain": [
       "   Number Last Drawn Date\n",
       "0      12      03/10/2020\n",
       "1       3      10/01/2019\n",
       "2      11      01/14/2020\n",
       "3      24      01/24/2020\n",
       "4      19      01/31/2020"
      ]
     },
     "execution_count": 122,
     "metadata": {},
     "output_type": "execute_result"
    }
   ],
   "source": [
    "fourth_df = mega_fourth.copy()\n",
    "\n",
    "fourthdf = split_cols(fourth_df, 'fourth', 'Second', 'Third', 'Fourth', 'Fifth')\n",
    "fourth_mega = megaball(fourthdf, 2)\n",
    "fourth_white = whiteball(fourthdf, 'White Ball')\n",
    "fourth_megacount = ballcount(fourth_mega, 'Mega Ball', 'Count')\n",
    "fourth_whitecount = ballcount(fourth_white, 'White Ball', 'Count')\n",
    "\n",
    "fourth_megacount.head()\n",
    "fourth_whitecount.head()\n",
    "\n",
    "checkdate(fourth_white)\n",
    "checkdate(fourth_mega)\n",
    "\n",
    "fourth_whitedate = pd.DataFrame(checkdate(fourth_white).items(), columns=['Number', 'Last Drawn Date'])\n",
    "fourth_megadate = pd.DataFrame(checkdate(fourth_mega).items(), columns=['Number', 'Last Drawn Date'])\n",
    "fourth_megadate.head()"
   ]
  },
  {
   "cell_type": "code",
   "execution_count": null,
   "metadata": {},
   "outputs": [],
   "source": []
  }
 ],
 "metadata": {
  "kernelspec": {
   "display_name": "Python 3",
   "language": "python",
   "name": "python3"
  },
  "language_info": {
   "codemirror_mode": {
    "name": "ipython",
    "version": 3
   },
   "file_extension": ".py",
   "mimetype": "text/x-python",
   "name": "python",
   "nbconvert_exporter": "python",
   "pygments_lexer": "ipython3",
   "version": "3.7.3"
  }
 },
 "nbformat": 4,
 "nbformat_minor": 2
}
